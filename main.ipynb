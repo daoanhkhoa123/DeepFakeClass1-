{
  "nbformat": 4,
  "nbformat_minor": 0,
  "metadata": {
    "colab": {
      "provenance": []
    },
    "kernelspec": {
      "name": "python3",
      "display_name": "Python 3"
    },
    "language_info": {
      "name": "python"
    }
  },
  "cells": [
    {
      "cell_type": "markdown",
      "source": [
        "# Install packages"
      ],
      "metadata": {
        "id": "CTx4FrON2BUi"
      }
    },
    {
      "cell_type": "code",
      "source": [
        "!pip install Flask==2.0.3 opencv-python==4.5.3.20210927 torch==1.10.0+cu113 ultralytics==8.0.0 vidgear==0.2.1 matplotlib\n",
        "!pip install yt-dlp mediapipe\n",
        "\n"
      ],
      "metadata": {
        "colab": {
          "base_uri": "https://localhost:8080/"
        },
        "id": "FesMaDhG16vt",
        "outputId": "175bad2f-a1c6-4e1d-952f-8bae1e8fe5ae"
      },
      "execution_count": 1,
      "outputs": [
        {
          "output_type": "stream",
          "name": "stdout",
          "text": [
            "Collecting Flask==2.0.3\n",
            "  Using cached Flask-2.0.3-py3-none-any.whl.metadata (3.8 kB)\n",
            "\u001b[31mERROR: Ignored the following yanked versions: 3.4.11.39, 3.4.17.61, 4.4.0.42, 4.4.0.44, 4.5.4.58, 4.5.5.62, 4.7.0.68\u001b[0m\u001b[31m\n",
            "\u001b[0m\u001b[31mERROR: Could not find a version that satisfies the requirement opencv-python==4.5.3.20210927 (from versions: 3.4.0.14, 3.4.10.37, 3.4.11.41, 3.4.11.43, 3.4.11.45, 3.4.13.47, 3.4.15.55, 3.4.16.57, 3.4.16.59, 3.4.17.63, 3.4.18.65, 4.3.0.38, 4.4.0.40, 4.4.0.46, 4.5.1.48, 4.5.3.56, 4.5.4.60, 4.5.5.64, 4.6.0.66, 4.7.0.72, 4.8.0.74, 4.8.0.76, 4.8.1.78, 4.9.0.80, 4.10.0.82, 4.10.0.84, 4.11.0.86)\u001b[0m\u001b[31m\n",
            "\u001b[0m\u001b[31mERROR: No matching distribution found for opencv-python==4.5.3.20210927\u001b[0m\u001b[31m\n",
            "\u001b[0mRequirement already satisfied: yt-dlp in /usr/local/lib/python3.11/dist-packages (2025.2.19)\n",
            "Requirement already satisfied: mediapipe in /usr/local/lib/python3.11/dist-packages (0.10.21)\n",
            "Requirement already satisfied: absl-py in /usr/local/lib/python3.11/dist-packages (from mediapipe) (1.4.0)\n",
            "Requirement already satisfied: attrs>=19.1.0 in /usr/local/lib/python3.11/dist-packages (from mediapipe) (25.1.0)\n",
            "Requirement already satisfied: flatbuffers>=2.0 in /usr/local/lib/python3.11/dist-packages (from mediapipe) (25.2.10)\n",
            "Requirement already satisfied: jax in /usr/local/lib/python3.11/dist-packages (from mediapipe) (0.4.33)\n",
            "Requirement already satisfied: jaxlib in /usr/local/lib/python3.11/dist-packages (from mediapipe) (0.4.33)\n",
            "Requirement already satisfied: matplotlib in /usr/local/lib/python3.11/dist-packages (from mediapipe) (3.10.0)\n",
            "Requirement already satisfied: numpy<2 in /usr/local/lib/python3.11/dist-packages (from mediapipe) (1.26.4)\n",
            "Requirement already satisfied: opencv-contrib-python in /usr/local/lib/python3.11/dist-packages (from mediapipe) (4.11.0.86)\n",
            "Requirement already satisfied: protobuf<5,>=4.25.3 in /usr/local/lib/python3.11/dist-packages (from mediapipe) (4.25.6)\n",
            "Requirement already satisfied: sounddevice>=0.4.4 in /usr/local/lib/python3.11/dist-packages (from mediapipe) (0.5.1)\n",
            "Requirement already satisfied: sentencepiece in /usr/local/lib/python3.11/dist-packages (from mediapipe) (0.2.0)\n",
            "Requirement already satisfied: CFFI>=1.0 in /usr/local/lib/python3.11/dist-packages (from sounddevice>=0.4.4->mediapipe) (1.17.1)\n",
            "Requirement already satisfied: ml-dtypes>=0.2.0 in /usr/local/lib/python3.11/dist-packages (from jax->mediapipe) (0.4.1)\n",
            "Requirement already satisfied: opt-einsum in /usr/local/lib/python3.11/dist-packages (from jax->mediapipe) (3.4.0)\n",
            "Requirement already satisfied: scipy>=1.10 in /usr/local/lib/python3.11/dist-packages (from jax->mediapipe) (1.13.1)\n",
            "Requirement already satisfied: contourpy>=1.0.1 in /usr/local/lib/python3.11/dist-packages (from matplotlib->mediapipe) (1.3.1)\n",
            "Requirement already satisfied: cycler>=0.10 in /usr/local/lib/python3.11/dist-packages (from matplotlib->mediapipe) (0.12.1)\n",
            "Requirement already satisfied: fonttools>=4.22.0 in /usr/local/lib/python3.11/dist-packages (from matplotlib->mediapipe) (4.56.0)\n",
            "Requirement already satisfied: kiwisolver>=1.3.1 in /usr/local/lib/python3.11/dist-packages (from matplotlib->mediapipe) (1.4.8)\n",
            "Requirement already satisfied: packaging>=20.0 in /usr/local/lib/python3.11/dist-packages (from matplotlib->mediapipe) (24.2)\n",
            "Requirement already satisfied: pillow>=8 in /usr/local/lib/python3.11/dist-packages (from matplotlib->mediapipe) (11.1.0)\n",
            "Requirement already satisfied: pyparsing>=2.3.1 in /usr/local/lib/python3.11/dist-packages (from matplotlib->mediapipe) (3.2.1)\n",
            "Requirement already satisfied: python-dateutil>=2.7 in /usr/local/lib/python3.11/dist-packages (from matplotlib->mediapipe) (2.8.2)\n",
            "Requirement already satisfied: pycparser in /usr/local/lib/python3.11/dist-packages (from CFFI>=1.0->sounddevice>=0.4.4->mediapipe) (2.22)\n",
            "Requirement already satisfied: six>=1.5 in /usr/local/lib/python3.11/dist-packages (from python-dateutil>=2.7->matplotlib->mediapipe) (1.17.0)\n"
          ]
        }
      ]
    },
    {
      "cell_type": "code",
      "execution_count": 2,
      "metadata": {
        "id": "UqlHtUb3y3fN",
        "colab": {
          "base_uri": "https://localhost:8080/"
        },
        "outputId": "efecb8c5-ce21-4c98-9510-9602f8806610"
      },
      "outputs": [
        {
          "output_type": "stream",
          "name": "stdout",
          "text": [
            "fatal: destination path 'DeepFakeClass1-' already exists and is not an empty directory.\n"
          ]
        }
      ],
      "source": [
        "# prompt: clone from this https://github.com/daoanhkhoa123/DeepFakeClass1-/blob/main/app.py\n",
        "\n",
        "!git clone https://github.com/daoanhkhoa123/DeepFakeClass1-.git\n"
      ]
    },
    {
      "cell_type": "code",
      "source": [
        "from pyngrok import ngrok\n",
        "!ngrok config add-authtoken 2u2TwodeVSFLjsMHvj1TIIupKQI_2uJ8KYZCreW7a9odzwX3K"
      ],
      "metadata": {
        "colab": {
          "base_uri": "https://localhost:8080/"
        },
        "id": "u5X1Wz6K16Ki",
        "outputId": "52489a39-32be-4434-c128-c31d36d4f84e"
      },
      "execution_count": 3,
      "outputs": [
        {
          "output_type": "stream",
          "name": "stdout",
          "text": [
            "Authtoken saved to configuration file: /root/.config/ngrok/ngrok.yml\n"
          ]
        }
      ]
    },
    {
      "cell_type": "markdown",
      "source": [
        "# Run"
      ],
      "metadata": {
        "id": "sIoEiuE-2Fmj"
      }
    },
    {
      "cell_type": "code",
      "source": [
        "import subprocess\n",
        "import sys\n",
        "from pathlib import Path\n",
        "import logging\n",
        "from pyngrok import ngrok  # Import ngrok\n",
        "\n",
        "logging.basicConfig(filename='flask_app_log.log', level=logging.DEBUG,\n",
        "                    format='%(asctime)s - %(name)s - %(levelname)s - %(message)s')\n",
        "logger = logging.getLogger(__name__)\n",
        "\n",
        "def main():\n",
        "    app_path = Path(\"/content/DeepFakeClass1-/app.py\")  # Replace with the actual path to your Flask app\n",
        "    if not app_path.exists():\n",
        "        logger.error(f\"Error: Could not find {app_path}\")\n",
        "        sys.exit(1)\n",
        "\n",
        "    log_file = None  # Initialize log_file outside try block\n",
        "    ngrok_tunnel = None  # Initialize ngrok_tunnel outside try block\n",
        "\n",
        "    try:\n",
        "        # Run the Flask app in the background and write output to log file\n",
        "        log_file = open(\"/content/flask_logs.txt\", \"w\")  # Log file to capture Flask output\n",
        "        process = subprocess.Popen([\"python\", str(app_path)], stdout=log_file, stderr=subprocess.STDOUT)\n",
        "\n",
        "        # Start ngrok to expose the Flask app to the public\n",
        "        ngrok_tunnel = ngrok.connect(8000)  # Flask runs by default on port 5000\n",
        "        public_url = ngrok_tunnel.public_url\n",
        "        logger.info(f\"Public URL: {public_url}\")\n",
        "        print('Public URL:', public_url)\n",
        "        print(\"\\nThe Flask application is running. Access it via the public URL. \\nPress Enter to stop the application...\")\n",
        "\n",
        "        # Wait for user input to stop the application\n",
        "        input()  # Wait for user input to stop\n",
        "\n",
        "    except subprocess.CalledProcessError as e:\n",
        "        logger.exception(f\"Error running Flask app: {e}\")\n",
        "        sys.exit(1)\n",
        "    except Exception as e_ngrok:  # Catch ngrok-related exceptions\n",
        "        logger.exception(f\"Ngrok error: {e_ngrok}\")\n",
        "        sys.exit(1)\n",
        "    finally:\n",
        "        if log_file:  # Check if log_file is open before closing\n",
        "            log_file.close()\n",
        "        if ngrok_tunnel:  # Check if ngrok_tunnel is initialized before killing\n",
        "            ngrok.kill()\n",
        "        print(\"Server has stopped.\")\n",
        "\n",
        "if __name__ == \"__main__\":\n",
        "    main()\n"
      ],
      "metadata": {
        "colab": {
          "base_uri": "https://localhost:8080/"
        },
        "id": "SBkWn2DJ2GEq",
        "outputId": "17e101b2-51f9-4175-9d3c-a5f274b2e19b"
      },
      "execution_count": 9,
      "outputs": [
        {
          "output_type": "stream",
          "name": "stdout",
          "text": [
            "Public URL: https://aa37-104-196-17-142.ngrok-free.app\n",
            "\n",
            "The Flask application is running. Access it via the public URL. \n",
            "Press Enter to stop the application...\n",
            "\n",
            "Server has stopped.\n"
          ]
        }
      ]
    }
  ]
}